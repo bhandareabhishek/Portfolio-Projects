{
 "cells": [
  {
   "cell_type": "markdown",
   "metadata": {},
   "source": [
    "# Complete Financial Analysis"
   ]
  },
  {
   "cell_type": "code",
   "execution_count": 1,
   "metadata": {
    "_cell_guid": "b1076dfc-b9ad-4769-8c92-a6c4dae69d19",
    "_uuid": "8f2839f25d086af736a60e9eeb907d3b93b6e0e5"
   },
   "outputs": [
    {
     "name": "stdout",
     "output_type": "stream",
     "text": [
      "/kaggle/input/200-financial-indicators-of-us-stocks-20142018/2016_Financial_Data.csv\n",
      "/kaggle/input/200-financial-indicators-of-us-stocks-20142018/2015_Financial_Data.csv\n",
      "/kaggle/input/200-financial-indicators-of-us-stocks-20142018/2014_Financial_Data.csv\n",
      "/kaggle/input/200-financial-indicators-of-us-stocks-20142018/2017_Financial_Data.csv\n",
      "/kaggle/input/200-financial-indicators-of-us-stocks-20142018/2018_Financial_Data.csv\n"
     ]
    }
   ],
   "source": [
    "import numpy as np # linear algebra\n",
    "import pandas as pd # data processing, CSV file I/O (e.g. pd.read_csv)\n",
    "import matplotlib.pyplot as plt\n",
    "\n",
    "# Fetching file paths\n",
    "import os\n",
    "for dirname, _, filenames in os.walk('input'):\n",
    "    for filename in filenames:\n",
    "        print(os.path.join(dirname, filename))\n",
    "\n",
    "# Any results you write to the current directory are saved as output."
   ]
  },
  {
   "cell_type": "code",
   "execution_count": 2,
   "metadata": {
    "_cell_guid": "79c7e3d0-c299-4dcb-8224-4455121ee9b0",
    "_uuid": "d629ff2d2480ee46fbb7e2d37f6b5fab8052498a"
   },
   "outputs": [],
   "source": [
    "df_2014 = pd.read_csv('/input/200-financial-indicators-of-us-stocks-20142018/2014_Financial_Data.csv')\n",
    "df_2015 = pd.read_csv('/input/200-financial-indicators-of-us-stocks-20142018/2015_Financial_Data.csv')\n",
    "df_2016 = pd.read_csv('/input/200-financial-indicators-of-us-stocks-20142018/2016_Financial_Data.csv')\n",
    "df_2017 = pd.read_csv('/input/200-financial-indicators-of-us-stocks-20142018/2017_Financial_Data.csv')\n",
    "df_2018 = pd.read_csv('/input/200-financial-indicators-of-us-stocks-20142018/2018_Financial_Data.csv')\n"
   ]
  },
  {
   "cell_type": "code",
   "execution_count": 3,
   "metadata": {},
   "outputs": [
    {
     "name": "stdout",
     "output_type": "stream",
     "text": [
      "Shape of data for Year 2014 is (3808, 225)\n",
      "Shape of data for Year 2015 is (4120, 225)\n",
      "Shape of data for Year 2016 is (4797, 225)\n",
      "Shape of data for Year 2017 is (4960, 225)\n",
      "Shape of data for Year 2018 is (4392, 225)\n"
     ]
    }
   ],
   "source": [
    "# Let's Check Shape of Each data set\n",
    "print(\"Shape of data for Year 2014 is {}\".format(df_2014.shape))\n",
    "print(\"Shape of data for Year 2015 is {}\".format(df_2015.shape))\n",
    "print(\"Shape of data for Year 2016 is {}\".format(df_2016.shape))\n",
    "print(\"Shape of data for Year 2017 is {}\".format(df_2017.shape))\n",
    "print(\"Shape of data for Year 2018 is {}\".format(df_2018.shape))"
   ]
  },
  {
   "cell_type": "code",
   "execution_count": 4,
   "metadata": {},
   "outputs": [
    {
     "name": "stdout",
     "output_type": "stream",
     "text": [
      "<class 'pandas.core.frame.DataFrame'>\n",
      "RangeIndex: 3808 entries, 0 to 3807\n",
      "Columns: 225 entries, Unnamed: 0 to Class\n",
      "dtypes: float64(222), int64(1), object(2)\n",
      "memory usage: 6.5+ MB\n"
     ]
    }
   ],
   "source": [
    "df_2014.info()"
   ]
  },
  {
   "cell_type": "code",
   "execution_count": 5,
   "metadata": {},
   "outputs": [
    {
     "data": {
      "text/html": [
       "<div>\n",
       "<style scoped>\n",
       "    .dataframe tbody tr th:only-of-type {\n",
       "        vertical-align: middle;\n",
       "    }\n",
       "\n",
       "    .dataframe tbody tr th {\n",
       "        vertical-align: top;\n",
       "    }\n",
       "\n",
       "    .dataframe thead th {\n",
       "        text-align: right;\n",
       "    }\n",
       "</style>\n",
       "<table border=\"1\" class=\"dataframe\">\n",
       "  <thead>\n",
       "    <tr style=\"text-align: right;\">\n",
       "      <th></th>\n",
       "      <th>Unnamed: 0</th>\n",
       "      <th>Revenue</th>\n",
       "      <th>Revenue Growth</th>\n",
       "      <th>Cost of Revenue</th>\n",
       "      <th>Gross Profit</th>\n",
       "      <th>R&amp;D Expenses</th>\n",
       "      <th>SG&amp;A Expense</th>\n",
       "      <th>Operating Expenses</th>\n",
       "      <th>Operating Income</th>\n",
       "      <th>Interest Expense</th>\n",
       "      <th>...</th>\n",
       "      <th>Receivables growth</th>\n",
       "      <th>Inventory Growth</th>\n",
       "      <th>Asset Growth</th>\n",
       "      <th>Book Value per Share Growth</th>\n",
       "      <th>Debt Growth</th>\n",
       "      <th>R&amp;D Expense Growth</th>\n",
       "      <th>SG&amp;A Expenses Growth</th>\n",
       "      <th>Sector</th>\n",
       "      <th>2015 PRICE VAR [%]</th>\n",
       "      <th>Class</th>\n",
       "    </tr>\n",
       "  </thead>\n",
       "  <tbody>\n",
       "    <tr>\n",
       "      <th>column type</th>\n",
       "      <td>object</td>\n",
       "      <td>float64</td>\n",
       "      <td>float64</td>\n",
       "      <td>float64</td>\n",
       "      <td>float64</td>\n",
       "      <td>float64</td>\n",
       "      <td>float64</td>\n",
       "      <td>float64</td>\n",
       "      <td>float64</td>\n",
       "      <td>float64</td>\n",
       "      <td>...</td>\n",
       "      <td>float64</td>\n",
       "      <td>float64</td>\n",
       "      <td>float64</td>\n",
       "      <td>float64</td>\n",
       "      <td>float64</td>\n",
       "      <td>float64</td>\n",
       "      <td>float64</td>\n",
       "      <td>object</td>\n",
       "      <td>float64</td>\n",
       "      <td>int64</td>\n",
       "    </tr>\n",
       "    <tr>\n",
       "      <th>null values (nb)</th>\n",
       "      <td>0</td>\n",
       "      <td>44</td>\n",
       "      <td>236</td>\n",
       "      <td>74</td>\n",
       "      <td>52</td>\n",
       "      <td>136</td>\n",
       "      <td>59</td>\n",
       "      <td>63</td>\n",
       "      <td>55</td>\n",
       "      <td>63</td>\n",
       "      <td>...</td>\n",
       "      <td>290</td>\n",
       "      <td>290</td>\n",
       "      <td>290</td>\n",
       "      <td>369</td>\n",
       "      <td>302</td>\n",
       "      <td>247</td>\n",
       "      <td>243</td>\n",
       "      <td>0</td>\n",
       "      <td>0</td>\n",
       "      <td>0</td>\n",
       "    </tr>\n",
       "    <tr>\n",
       "      <th>null values (%)</th>\n",
       "      <td>0</td>\n",
       "      <td>1.15546</td>\n",
       "      <td>6.19748</td>\n",
       "      <td>1.94328</td>\n",
       "      <td>1.36555</td>\n",
       "      <td>3.57143</td>\n",
       "      <td>1.54937</td>\n",
       "      <td>1.65441</td>\n",
       "      <td>1.44433</td>\n",
       "      <td>1.65441</td>\n",
       "      <td>...</td>\n",
       "      <td>7.61555</td>\n",
       "      <td>7.61555</td>\n",
       "      <td>7.61555</td>\n",
       "      <td>9.69013</td>\n",
       "      <td>7.93067</td>\n",
       "      <td>6.48634</td>\n",
       "      <td>6.3813</td>\n",
       "      <td>0</td>\n",
       "      <td>0</td>\n",
       "      <td>0</td>\n",
       "    </tr>\n",
       "  </tbody>\n",
       "</table>\n",
       "<p>3 rows × 225 columns</p>\n",
       "</div>"
      ],
      "text/plain": [
       "                 Unnamed: 0  Revenue Revenue Growth Cost of Revenue  \\\n",
       "column type          object  float64        float64         float64   \n",
       "null values (nb)          0       44            236              74   \n",
       "null values (%)           0  1.15546        6.19748         1.94328   \n",
       "\n",
       "                 Gross Profit R&D Expenses SG&A Expense Operating Expenses  \\\n",
       "column type           float64      float64      float64            float64   \n",
       "null values (nb)           52          136           59                 63   \n",
       "null values (%)       1.36555      3.57143      1.54937            1.65441   \n",
       "\n",
       "                 Operating Income Interest Expense  ... Receivables growth  \\\n",
       "column type               float64          float64  ...            float64   \n",
       "null values (nb)               55               63  ...                290   \n",
       "null values (%)           1.44433          1.65441  ...            7.61555   \n",
       "\n",
       "                 Inventory Growth Asset Growth Book Value per Share Growth  \\\n",
       "column type               float64      float64                     float64   \n",
       "null values (nb)              290          290                         369   \n",
       "null values (%)           7.61555      7.61555                     9.69013   \n",
       "\n",
       "                 Debt Growth R&D Expense Growth SG&A Expenses Growth  Sector  \\\n",
       "column type          float64            float64              float64  object   \n",
       "null values (nb)         302                247                  243       0   \n",
       "null values (%)      7.93067            6.48634               6.3813       0   \n",
       "\n",
       "                 2015 PRICE VAR [%]  Class  \n",
       "column type                 float64  int64  \n",
       "null values (nb)                  0      0  \n",
       "null values (%)                   0      0  \n",
       "\n",
       "[3 rows x 225 columns]"
      ]
     },
     "metadata": {},
     "output_type": "display_data"
    }
   ],
   "source": [
    "# Data missing information for 2014 year\n",
    "data_info=pd.DataFrame(df_2014.dtypes).T.rename(index={0:'column type'})\n",
    "data_info=data_info.append(pd.DataFrame(df_2014.isnull().sum()).T.rename(index={0:'null values (nb)'}))\n",
    "data_info=data_info.append(pd.DataFrame(df_2014.isnull().sum()/df_2014.shape[0]*100).T.\n",
    "                         rename(index={0:'null values (%)'}))\n",
    "display(data_info)"
   ]
  },
  {
   "cell_type": "code",
   "execution_count": 6,
   "metadata": {},
   "outputs": [
    {
     "data": {
      "text/html": [
       "<div>\n",
       "<style scoped>\n",
       "    .dataframe tbody tr th:only-of-type {\n",
       "        vertical-align: middle;\n",
       "    }\n",
       "\n",
       "    .dataframe tbody tr th {\n",
       "        vertical-align: top;\n",
       "    }\n",
       "\n",
       "    .dataframe thead th {\n",
       "        text-align: right;\n",
       "    }\n",
       "</style>\n",
       "<table border=\"1\" class=\"dataframe\">\n",
       "  <thead>\n",
       "    <tr style=\"text-align: right;\">\n",
       "      <th></th>\n",
       "      <th>Unnamed: 0</th>\n",
       "      <th>Revenue</th>\n",
       "      <th>Revenue Growth</th>\n",
       "      <th>Cost of Revenue</th>\n",
       "      <th>Gross Profit</th>\n",
       "      <th>R&amp;D Expenses</th>\n",
       "      <th>SG&amp;A Expense</th>\n",
       "      <th>Operating Expenses</th>\n",
       "      <th>Operating Income</th>\n",
       "      <th>Interest Expense</th>\n",
       "      <th>...</th>\n",
       "      <th>Receivables growth</th>\n",
       "      <th>Inventory Growth</th>\n",
       "      <th>Asset Growth</th>\n",
       "      <th>Book Value per Share Growth</th>\n",
       "      <th>Debt Growth</th>\n",
       "      <th>R&amp;D Expense Growth</th>\n",
       "      <th>SG&amp;A Expenses Growth</th>\n",
       "      <th>Sector</th>\n",
       "      <th>2016 PRICE VAR [%]</th>\n",
       "      <th>Class</th>\n",
       "    </tr>\n",
       "  </thead>\n",
       "  <tbody>\n",
       "    <tr>\n",
       "      <th>column type</th>\n",
       "      <td>object</td>\n",
       "      <td>float64</td>\n",
       "      <td>float64</td>\n",
       "      <td>float64</td>\n",
       "      <td>float64</td>\n",
       "      <td>float64</td>\n",
       "      <td>float64</td>\n",
       "      <td>float64</td>\n",
       "      <td>float64</td>\n",
       "      <td>float64</td>\n",
       "      <td>...</td>\n",
       "      <td>float64</td>\n",
       "      <td>float64</td>\n",
       "      <td>float64</td>\n",
       "      <td>float64</td>\n",
       "      <td>float64</td>\n",
       "      <td>float64</td>\n",
       "      <td>float64</td>\n",
       "      <td>object</td>\n",
       "      <td>float64</td>\n",
       "      <td>int64</td>\n",
       "    </tr>\n",
       "    <tr>\n",
       "      <th>null values (nb)</th>\n",
       "      <td>0</td>\n",
       "      <td>67</td>\n",
       "      <td>340</td>\n",
       "      <td>193</td>\n",
       "      <td>65</td>\n",
       "      <td>265</td>\n",
       "      <td>170</td>\n",
       "      <td>174</td>\n",
       "      <td>42</td>\n",
       "      <td>175</td>\n",
       "      <td>...</td>\n",
       "      <td>368</td>\n",
       "      <td>369</td>\n",
       "      <td>369</td>\n",
       "      <td>458</td>\n",
       "      <td>399</td>\n",
       "      <td>351</td>\n",
       "      <td>347</td>\n",
       "      <td>0</td>\n",
       "      <td>0</td>\n",
       "      <td>0</td>\n",
       "    </tr>\n",
       "    <tr>\n",
       "      <th>null values (%)</th>\n",
       "      <td>0</td>\n",
       "      <td>1.62621</td>\n",
       "      <td>8.25243</td>\n",
       "      <td>4.68447</td>\n",
       "      <td>1.57767</td>\n",
       "      <td>6.43204</td>\n",
       "      <td>4.12621</td>\n",
       "      <td>4.2233</td>\n",
       "      <td>1.01942</td>\n",
       "      <td>4.24757</td>\n",
       "      <td>...</td>\n",
       "      <td>8.93204</td>\n",
       "      <td>8.95631</td>\n",
       "      <td>8.95631</td>\n",
       "      <td>11.1165</td>\n",
       "      <td>9.68447</td>\n",
       "      <td>8.51942</td>\n",
       "      <td>8.42233</td>\n",
       "      <td>0</td>\n",
       "      <td>0</td>\n",
       "      <td>0</td>\n",
       "    </tr>\n",
       "  </tbody>\n",
       "</table>\n",
       "<p>3 rows × 225 columns</p>\n",
       "</div>"
      ],
      "text/plain": [
       "                 Unnamed: 0  Revenue Revenue Growth Cost of Revenue  \\\n",
       "column type          object  float64        float64         float64   \n",
       "null values (nb)          0       67            340             193   \n",
       "null values (%)           0  1.62621        8.25243         4.68447   \n",
       "\n",
       "                 Gross Profit R&D Expenses SG&A Expense Operating Expenses  \\\n",
       "column type           float64      float64      float64            float64   \n",
       "null values (nb)           65          265          170                174   \n",
       "null values (%)       1.57767      6.43204      4.12621             4.2233   \n",
       "\n",
       "                 Operating Income Interest Expense  ... Receivables growth  \\\n",
       "column type               float64          float64  ...            float64   \n",
       "null values (nb)               42              175  ...                368   \n",
       "null values (%)           1.01942          4.24757  ...            8.93204   \n",
       "\n",
       "                 Inventory Growth Asset Growth Book Value per Share Growth  \\\n",
       "column type               float64      float64                     float64   \n",
       "null values (nb)              369          369                         458   \n",
       "null values (%)           8.95631      8.95631                     11.1165   \n",
       "\n",
       "                 Debt Growth R&D Expense Growth SG&A Expenses Growth  Sector  \\\n",
       "column type          float64            float64              float64  object   \n",
       "null values (nb)         399                351                  347       0   \n",
       "null values (%)      9.68447            8.51942              8.42233       0   \n",
       "\n",
       "                 2016 PRICE VAR [%]  Class  \n",
       "column type                 float64  int64  \n",
       "null values (nb)                  0      0  \n",
       "null values (%)                   0      0  \n",
       "\n",
       "[3 rows x 225 columns]"
      ]
     },
     "metadata": {},
     "output_type": "display_data"
    }
   ],
   "source": [
    "# Data missing information for 2015 year\n",
    "data_info=pd.DataFrame(df_2015.dtypes).T.rename(index={0:'column type'})\n",
    "data_info=data_info.append(pd.DataFrame(df_2015.isnull().sum()).T.rename(index={0:'null values (nb)'}))\n",
    "data_info=data_info.append(pd.DataFrame(df_2015.isnull().sum()/df_2015.shape[0]*100).T.\n",
    "                         rename(index={0:'null values (%)'}))\n",
    "display(data_info)"
   ]
  },
  {
   "cell_type": "markdown",
   "metadata": {},
   "source": [
    "### Imputation\n",
    "\n",
    "We have chosen to impute missing values with zero. This decision is based on the understanding that these missing values correspond to companies that do not have reported data for that specific year."
   ]
  },
  {
   "cell_type": "code",
   "execution_count": 2,
   "metadata": {},
   "outputs": [
    {
     "ename": "NameError",
     "evalue": "name 'df_2014' is not defined",
     "output_type": "error",
     "traceback": [
      "\u001b[1;31m---------------------------------------------------------------------------\u001b[0m",
      "\u001b[1;31mNameError\u001b[0m                                 Traceback (most recent call last)",
      "Cell \u001b[1;32mIn[2], line 1\u001b[0m\n\u001b[1;32m----> 1\u001b[0m df_2014\u001b[38;5;241m.\u001b[39mfillna(\u001b[38;5;241m0\u001b[39m,inplace\u001b[38;5;241m=\u001b[39m\u001b[38;5;28;01mTrue\u001b[39;00m)\n\u001b[0;32m      2\u001b[0m df_2015\u001b[38;5;241m.\u001b[39mfillna(\u001b[38;5;241m0\u001b[39m,inplace\u001b[38;5;241m=\u001b[39m\u001b[38;5;28;01mTrue\u001b[39;00m)\n\u001b[0;32m      3\u001b[0m df_2016\u001b[38;5;241m.\u001b[39mfillna(\u001b[38;5;241m0\u001b[39m,inplace\u001b[38;5;241m=\u001b[39m\u001b[38;5;28;01mTrue\u001b[39;00m)\n",
      "\u001b[1;31mNameError\u001b[0m: name 'df_2014' is not defined"
     ]
    }
   ],
   "source": [
    "df_2014.fillna(0,inplace=True)\n",
    "df_2015.fillna(0,inplace=True)\n",
    "df_2016.fillna(0,inplace=True)\n",
    "df_2017.fillna(0,inplace=True)\n",
    "df_2018.fillna(0,inplace=True)"
   ]
  },
  {
   "cell_type": "markdown",
   "metadata": {},
   "source": [
    "## Ratio Analysis\n",
    "\n",
    "Note : I am performing all analysis on one organization (Procter & Gamble). We can all analysis in similar manner\n",
    "\n",
    "Organization can be identify by ticker sysmbol given in column 'Unnamed: 0'\n",
    "\n",
    "*** Financial Ratio is quick way to understand any company position. There are around more than 59 Financial ratios\n",
    "\n",
    "Quick Ratio : current assest - Inventory /current liabilities ( This is best way to understand liquidity of organization, how quick organization is able to pay all liabilities)"
   ]
  },
  {
   "cell_type": "markdown",
   "metadata": {},
   "source": [
    "### Ratio Analysis for Procter & Gamble (Ticker Symbol: PG)\n",
    "\n",
    "When evaluating a company’s financial health, ratio analysis provides valuable insights. Procter & Gamble (PG) serves as our focal organization for this analysis. By examining various financial ratios, we gain a comprehensive understanding of PG’s position.\n",
    "\n",
    "One crucial ratio is the **Quick Ratio**, which measures liquidity. It is calculated as follows:\n",
    "\n",
    "Quick Ratio = Current Assets - Inventory /Current Liabilities\n",
    "\n",
    "The ***Quick Ratio assesses how efficiently an organization can cover its short-term obligations.*** Specifically, it evaluates PG’s ability to promptly settle liabilities without relying on inventory sales. Higher Quick Ratios indicate better liquidity and a stronger ability to meet financial commitments."
   ]
  },
  {
   "cell_type": "code",
   "execution_count": 8,
   "metadata": {},
   "outputs": [],
   "source": [
    "# Considering Procter & Gamble company only \n",
    "df_2014 = df_2014[df_2014['Unnamed: 0'] =='PG' ]\n",
    "df_2015 = df_2015[df_2015['Unnamed: 0'] =='PG' ]\n",
    "df_2016 = df_2016[df_2016['Unnamed: 0'] =='PG' ]\n",
    "df_2017 = df_2017[df_2017['Unnamed: 0'] =='PG' ]\n",
    "df_2018 = df_2018[df_2018['Unnamed: 0'] =='PG' ]"
   ]
  },
  {
   "cell_type": "code",
   "execution_count": 9,
   "metadata": {},
   "outputs": [
    {
     "name": "stderr",
     "output_type": "stream",
     "text": [
      "/opt/conda/lib/python3.6/site-packages/pandas/core/frame.py:7138: FutureWarning: Sorting because non-concatenation axis is not aligned. A future version\n",
      "of pandas will change to not sort by default.\n",
      "\n",
      "To accept the future behavior, pass 'sort=False'.\n",
      "\n",
      "To retain the current behavior and silence the warning, pass 'sort=True'.\n",
      "\n",
      "  sort=sort,\n"
     ]
    }
   ],
   "source": [
    "df = df_2014.append([df_2015,df_2016,df_2017,df_2018])\n",
    "df.fillna(0,inplace=True)\n",
    "df.index = [2014,2015,2016,2017,2018]"
   ]
  },
  {
   "cell_type": "code",
   "execution_count": 10,
   "metadata": {},
   "outputs": [
    {
     "name": "stdout",
     "output_type": "stream",
     "text": [
      "Mean of Quick Ratio for P&G last 5 year is 0.57 \n"
     ]
    },
    {
     "data": {
      "image/png": "[encoded data removed]",
      "text/plain": [
       "<Figure size 1080x504 with 1 Axes>"
      ]
     },
     "metadata": {
      "needs_background": "light"
     },
     "output_type": "display_data"
    }
   ],
   "source": [
    "print(\"Mean of Quick Ratio for P&G last 5 year is {:.2f} \".format(df['quickRatio'].mean()))\n",
    "plt.figure(figsize=(15, 7))\n",
    "df['quickRatio'].plot.bar(color='y')\n",
    "plt.xlabel('Years')\n",
    "plt.ylabel('Quick Ratio')\n",
    "plt.title('Quick Ratio analysis P&G ')\n",
    "plt.grid(False)\n",
    "plt.show()"
   ]
  },
  {
   "cell_type": "markdown",
   "metadata": {},
   "source": [
    "### Analysis of Procter & Gamble’s Quick Ratio\n",
    "\n",
    "Procter & Gamble (PG) currently exhibits a Quick Ratio of **0.57**. This ratio signifies that the company’s liabilities exceed its current assets by more than twofold. In practical terms, this implies that PG may face challenges in meeting its short-term obligations.\n",
    "\n",
    "However, before drawing any definitive conclusions regarding short-term obligations, it is essential to analyze the **Current Ratio** as well. The ***Current Ratio provides a broader perspective on PG’s ability to manage its financial commitments.***"
   ]
  },
  {
   "cell_type": "markdown",
   "metadata": {},
   "source": [
    "**Current Ratio: Current Assest+Inventory / Current Liabilities**\n",
    "\n",
    "**Good Current ratio in between 1 and 2, if the current ratio is more than 2 it means the company is unable to make use of inventory**"
   ]
  },
  {
   "cell_type": "code",
   "execution_count": 11,
   "metadata": {},
   "outputs": [
    {
     "name": "stdout",
     "output_type": "stream",
     "text": [
      "Mean of Quick Ratio for P&G last 5 year is 0.95 \n"
     ]
    },
    {
     "data": {
      "image/png": "[encoded data removed]",
      "text/plain": [
       "<Figure size 1080x504 with 1 Axes>"
      ]
     },
     "metadata": {
      "needs_background": "light"
     },
     "output_type": "display_data"
    }
   ],
   "source": [
    "# Current ratio\n",
    "print(\"Mean of Quick Ratio for P&G last 5 year is {:.2f} \".format(df['currentRatio'].mean()))\n",
    "plt.figure(figsize=(15, 7))\n",
    "df['currentRatio'].plot.bar()\n",
    "plt.xlabel('Years')\n",
    "plt.ylabel('Current Ratio')\n",
    "plt.title('Current Ratio analysis P&G ')\n",
    "plt.grid(True)\n",
    "plt.show()"
   ]
  },
  {
   "cell_type": "markdown",
   "metadata": {},
   "source": [
    "1. **P&G has good Current ratio (0.95) but still company has more current liabilites compare to current assests**\n",
    "2. **Let's Analyze debt to equity Ratio : The debt-to-equity (D/E) ratio is calculated by dividing a company’s total liabilities by its shareholder equity**\n",
    "    **it reflects the ability of shareholder equity to cover all outstanding debts in the event of a business downturn.**\n",
    "3. **​\t  Debt/Equity= Total Liabilities/Shareholder Equity**\n",
    "4. **Total Asset = Liabilities + Shareholder equity**"
   ]
  },
  {
   "cell_type": "code",
   "execution_count": 12,
   "metadata": {},
   "outputs": [
    {
     "name": "stdout",
     "output_type": "stream",
     "text": [
      "Mean of Debt to Equity  Ratio for P&G last 5 year is 0.53 \n"
     ]
    },
    {
     "data": {
      "image/png": "[encoded data removed]",
      "text/plain": [
       "<Figure size 1080x504 with 1 Axes>"
      ]
     },
     "metadata": {
      "needs_background": "light"
     },
     "output_type": "display_data"
    }
   ],
   "source": [
    "# Debt to Equity ratio\n",
    "print(\"Mean of Debt to Equity  Ratio for P&G last 5 year is {:.2f} \".format(df['debtEquityRatio'].mean()))\n",
    "plt.figure(figsize=(15, 7))\n",
    "df['debtEquityRatio'].plot.bar()\n",
    "plt.xlabel('Years')\n",
    "plt.ylabel('debtEquity Ratio')\n",
    "plt.title('Debt Equity Ratio analysis P&G ')\n",
    "plt.grid(True)\n",
    "plt.show()"
   ]
  },
  {
   "cell_type": "markdown",
   "metadata": {},
   "source": [
    "### Debt Ratio Considerations for Investors:\n",
    "\n",
    "Investors often seek companies with a debt ratio falling within the range of **0.3 to 0.6**. This range indicates a balanced level of debt relative to equity, which is generally considered favourable.\n",
    "\n",
    "Now, let’s delve into the analysis of **Inventory Turnover**. This metric gauges ***how efficiently a company utilizes its inventory over a specific time frame, typically a year. Specifically, it assesses whether a business maintains an appropriate inventory level relative to its sales volume.***\n",
    "\n",
    "The formula for Inventory Turnover is as follows:\n",
    "\n",
    "Inventory Turnover = Sales/Average Inventory\n",
    "\n",
    "To calculate the **Average Inventory**, we use the following formula:\n",
    "Average Inventory = (Start Inventory - ending Inventory)/2\n",
    "\n",
    "By examining Inventory Turnover, investors gain insights into ***how effectively a company manages its inventory in relation to its overall sales performance.***"
   ]
  },
  {
   "cell_type": "code",
   "execution_count": 13,
   "metadata": {},
   "outputs": [
    {
     "name": "stdout",
     "output_type": "stream",
     "text": [
      "Mean of Inventory Turnover for P&G last 5 year is 12.92 \n"
     ]
    },
    {
     "data": {
      "image/png": "[encoded data removed]",
      "text/plain": [
       "<Figure size 1080x504 with 1 Axes>"
      ]
     },
     "metadata": {
      "needs_background": "light"
     },
     "output_type": "display_data"
    }
   ],
   "source": [
    "# Return on equity\n",
    "print(\"Mean of Inventory Turnover for P&G last 5 year is {:.2f} \".format(df['inventoryTurnover'].mean()))\n",
    "plt.figure(figsize=(15, 7))\n",
    "df['inventoryTurnover'].plot.bar()\n",
    "plt.xlabel('Years')\n",
    "plt.ylabel('Inventory Turnover')\n",
    "plt.title('Inventory Turnover analysis P&G ')\n",
    "plt.grid(True)\n",
    "plt.show()"
   ]
  },
  {
   "cell_type": "markdown",
   "metadata": {},
   "source": [
    "### Balance Sheet Analysis\n",
    "\n",
    "1. **Asset Section:**\n",
    "   - **Short-Term Assets**: These are assets that are expected to be converted into cash or used up within a year. They include:\n",
    "     - **Cash and Cash Reserves**: Liquid funds readily available for day-to-day operations.\n",
    "     - **Cash Equivalents**: Highly liquid investments with minimal risk.\n",
    "     - **Inventories**: Goods held for sale or production.\n",
    "     - **Accounts Receivable**: Amounts owed by customers for goods or services.\n",
    "     - **Securities**: Marketable investments.\n",
    "   - **Long-Term Assets**: These are assets with a longer useful life. They include:\n",
    "     - **Property, Plant, and Equipment**: Tangible assets like land, buildings, machinery, and vehicles.\n",
    "     - **Long-Term Investments**: Holdings in other companies or securities.\n",
    "     - **Intangible Assets**: Non-physical assets such as patents, trademarks, and goodwill.\n",
    "\n",
    "2. **Liabilities Section:**\n",
    "   - **Short-Term Liabilities**: Obligations due within a year. They encompass:\n",
    "     - **Short-Term Debts**: Loans or payables due soon.\n",
    "     - **Dividends Payable**: Amounts owed to shareholders.\n",
    "     - **Trade Account Payable**: Outstanding bills to suppliers.\n",
    "     - **Customer Deposits**: Prepayments from customers.\n",
    "     - **Current Portion of Long-Term Debts**: The portion of long-term debt due within a year.\n",
    "   - **Long-Term Liabilities**: Obligations extending beyond one year. These include:\n",
    "     - **Long-Term Loans**: Borrowings with extended repayment periods.\n",
    "     - **Deferred Revenues**: Income received in advance (e.g., subscriptions).\n",
    "     - **Deferred Compensation**: Employee benefits accrued over time.\n",
    "\n",
    "Analyzing each of these components provides valuable insights into a company’s financial health and its ability to meet short-term and long-term obligations."
   ]
  },
  {
   "cell_type": "markdown",
   "metadata": {},
   "source": [
    "### Short-Term Analysis of Assets of P&G\n",
    "\n",
    "**Cash and Cash Equivalents:** These are highly liquid funds that P&G holds. They include actual cash on hand and short-term investments that can be quickly converted to cash if needed. \n",
    "\n",
    "**Inventories:** P&G’s inventories consist of goods held for sale or production. This includes raw materials, work-in-progress, and finished goods. \n",
    "\n",
    "**Average Receivables:** This represents the average amount of money owed to P&G by its customers. It includes accounts receivable and reflects the company’s credit sales. \n",
    "\n",
    "**Investments:** P&G may also hold short-term investments in securities or other financial instruments. These investments are typically low-risk and easily convertible to cash. Analyzing these short-term assets provides insights into P&G’s liquidity, operational efficiency, and financial stability."
   ]
  },
  {
   "cell_type": "code",
   "execution_count": 14,
   "metadata": {},
   "outputs": [],
   "source": [
    "df['ShortTermAssest'] = df['Cash and cash equivalents'] + df['Cash and short-term investments']+df['Inventories']+df['Average Receivables']\\\n",
    "                        + df['Investments']+df['Investment purchases and sales']+df['Short-term investments']\n",
    "\n",
    "df['liquidcash'] = df['Cash and cash equivalents'] + df['Cash and short-term investments']"
   ]
  },
  {
   "cell_type": "code",
   "execution_count": 15,
   "metadata": {},
   "outputs": [
    {
     "name": "stdout",
     "output_type": "stream",
     "text": [
      "Mean of short Term assest for P&G last 5 year is 40091400000.00 \n"
     ]
    },
    {
     "data": {
      "image/png": "[encoded data removed]",
      "text/plain": [
       "<Figure size 1080x504 with 1 Axes>"
      ]
     },
     "metadata": {
      "needs_background": "light"
     },
     "output_type": "display_data"
    }
   ],
   "source": [
    "# Short Term Assets\n",
    "n_year = 5\n",
    "index = np.arange(n_year)\n",
    "bar_width = 0.35\n",
    "opacity = 0.7\n",
    "\n",
    "print(\"Mean of short Term assest for P&G last 5 year is {:.2f} \".format(df['ShortTermAssest'].mean()))\n",
    "\n",
    "plt.figure(figsize=(15, 7))\n",
    "plt.bar(index,df['ShortTermAssest'],bar_width,alpha=opacity,color='b',label='Short Term Assest')\n",
    "plt.bar(index+bar_width,df['liquidcash'],bar_width,alpha=opacity,color='y',label='liquid Cash')\n",
    "plt.xlabel('Years')\n",
    "plt.ylabel('Short Term Assests')\n",
    "plt.title('Short Term Assest or Current Assest analysis P&G ')\n",
    "plt.xticks(index+0.20, df.index)\n",
    "plt.grid(False)\n",
    "plt.legend()\n",
    "plt.show()"
   ]
  },
  {
   "cell_type": "markdown",
   "metadata": {},
   "source": [
    "### Long-Term Analysis of Assets of P&G\n",
    "\r\n",
    "1. **Property, Plant, and Equipment (PP&E)**: These tangible assets encompass land, buildings, machinery, vehicles, and other physical infrastructure owned by P&G. PP&E plays a critical role in the company's operations and production processes.\r\n",
    "\r\n",
    "2. **Goodwill and Intangible Assets**: Goodwill represents the premium paid by P&G when acquiring other companies. It reflects the value of brand reputation, customer relationships, and other non-physical assets. Intangible assets include patents, trademarks, copyrights, and software licenses.\r\n",
    "\r\n",
    "3. **Long-Term Investments**: P&G may hold investments in other companies, joint ventures, or securities with extended maturity periods. These investments contribute to the company's long-term growth and diversification strategy.\r\n",
    "\r\n",
    "Analyzing these long-term assets provides insights into P&G's strategic positioning, competitive advantages, and future prospects."
   ]
  },
  {
   "cell_type": "code",
   "execution_count": 16,
   "metadata": {},
   "outputs": [
    {
     "name": "stdout",
     "output_type": "stream",
     "text": [
      "Mean of Long Term assest for P&G last 5 year is 92571200000.00 \n",
      "Mean Percentage Long Term asset out of Total Asset for P&G last 5 year is 72.37% \n"
     ]
    },
    {
     "data": {
      "image/png": "[encoded data removed]",
      "text/plain": [
       "<Figure size 1080x504 with 1 Axes>"
      ]
     },
     "metadata": {
      "needs_background": "light"
     },
     "output_type": "display_data"
    }
   ],
   "source": [
    "# Long Term Asset and Short-Term Asset\n",
    "df['LongTermAsset'] = df['Property, Plant & Equipment Net'] +df['Goodwill and Intangible Assets']+df['Long-term investments']\n",
    "# Long term Asset\n",
    "n_year = 5\n",
    "index = np.arange(n_year)\n",
    "bar_width = 0.3\n",
    "opacity = 0.7\n",
    "\n",
    "print(\"Mean of Long Term assest for P&G last 5 year is {:.2f} \".format(df['LongTermAsset'].mean()))\n",
    "\n",
    "print(\"Mean Percentage Long Term asset out of Total Asset for P&G last 5 year is {:.2f}% \".format((df['LongTermAsset'].mean()/df['Total assets'].mean())*100))\n",
    "\n",
    "\n",
    "plt.figure(figsize=(15, 7))\n",
    "plt.bar(index,df['LongTermAsset'],bar_width,alpha=opacity,color='b',label='Long Term Asset')\n",
    "plt.bar(index+bar_width,df['ShortTermAssest'],bar_width,alpha=opacity,color='y',label='short Term Asset')\n",
    "plt.bar(index-bar_width,df['Total assets'],bar_width,alpha=opacity,color='g',label='Total Asset')\n",
    "plt.xlabel('Years')\n",
    "plt.ylabel('Asset Analysis')\n",
    "plt.title('Short Term Assest and  Long Assest analysis P&G ')\n",
    "plt.xticks(index+0.10, df.index)\n",
    "plt.grid(False)\n",
    "plt.legend()\n",
    "plt.show();"
   ]
  }
 ],
 "metadata": {
  "kernelspec": {
   "display_name": "Python 3 (ipykernel)",
   "language": "python",
   "name": "python3"
  },
  "language_info": {
   "codemirror_mode": {
    "name": "ipython",
    "version": 3
   },
   "file_extension": ".py",
   "mimetype": "text/x-python",
   "name": "python",
   "nbconvert_exporter": "python",
   "pygments_lexer": "ipython3",
   "version": "3.11.7"
  }
 },
 "nbformat": 4,
 "nbformat_minor": 4
}
